{
 "cells": [
  {
   "cell_type": "code",
   "execution_count": 1,
   "metadata": {},
   "outputs": [],
   "source": [
    "#pip install gensim nltk annoy\n",
    "#pip install \"scipy<1.13\"\n",
    "#pip install scikit-learn\n",
    "#pip install matplotlib\n",
    "#pip install pinecone-client"
   ]
  },
  {
   "cell_type": "code",
   "execution_count": 2,
   "metadata": {},
   "outputs": [
    {
     "name": "stderr",
     "output_type": "stream",
     "text": [
      "[nltk_data] Downloading package punkt to /home/fansan/nltk_data...\n",
      "[nltk_data]   Package punkt is already up-to-date!\n",
      "[nltk_data] Downloading package stopwords to /home/fansan/nltk_data...\n",
      "[nltk_data]   Package stopwords is already up-to-date!\n"
     ]
    },
    {
     "data": {
      "text/plain": [
       "True"
      ]
     },
     "execution_count": 2,
     "metadata": {},
     "output_type": "execute_result"
    }
   ],
   "source": [
    "import nltk\n",
    "import numpy as np\n",
    "import os\n",
    "import codecs\n",
    "\n",
    "nltk.download('punkt')\n",
    "nltk.download('stopwords')"
   ]
  },
  {
   "cell_type": "code",
   "execution_count": 3,
   "metadata": {},
   "outputs": [],
   "source": [
    "from nltk.corpus import stopwords\n",
    "from nltk.tokenize import word_tokenize\n",
    "from nltk.stem import PorterStemmer\n",
    "\n",
    "# Initialize the stemmer\n",
    "stemmer = PorterStemmer()\n",
    "\n",
    "# Function to preprocess a document\n",
    "def preprocess(document):\n",
    "    # Tokenize the document\n",
    "    tokens = word_tokenize(document)\n",
    "    # Remove stop words and stem the tokens\n",
    "    tokens = [stemmer.stem(token) for token in tokens if token not in stopwords.words('english')]\n",
    "    return tokens"
   ]
  },
  {
   "cell_type": "code",
   "execution_count": 4,
   "metadata": {},
   "outputs": [
    {
     "name": "stdout",
     "output_type": "stream",
     "text": [
      "['thi', 'sampl', 'document', '.']\n"
     ]
    }
   ],
   "source": [
    "print(preprocess(\"This is a sample document.\"))"
   ]
  },
  {
   "cell_type": "code",
   "execution_count": 5,
   "metadata": {},
   "outputs": [],
   "source": [
    "from gensim.models import Word2Vec\n",
    "\n",
    "# Train a Word2Vec model on the documents\n",
    "def train_word2vec(documents):\n",
    "    model = Word2Vec(documents, vector_size=100, window=5, min_count=1, workers=4)\n",
    "    return model\n",
    "\n",
    "# Load the documents from a directory\n",
    "def load_documents(directory):\n",
    "    documents = []\n",
    "    filenames = []\n",
    "    for filename in os.listdir(directory):\n",
    "        if filename.endswith(\".txt\"):\n",
    "            with codecs.open(os.path.join(directory, filename), 'r', encoding='utf8') as f:\n",
    "                documents.append(f.read())\n",
    "                filenames.append(filename)\n",
    "    return documents, filenames\n",
    "\n",
    "# Function to generate a document embedding\n",
    "def embed_document(model, document):\n",
    "    # Preprocess the document\n",
    "    tokens = preprocess(document)\n",
    "    # Generate the embedding\n",
    "    embedding = [model.wv[token] for token in tokens if token in model.wv]\n",
    "    return embedding"
   ]
  },
  {
   "cell_type": "code",
   "execution_count": 6,
   "metadata": {},
   "outputs": [
    {
     "name": "stdout",
     "output_type": "stream",
     "text": [
      "[array([-0.27319345,  0.6167091 ,  0.70062613, -0.00953952, -0.3057155 ,\n",
      "       -0.6782077 ,  0.41312435,  0.4103908 ,  0.936135  , -0.13494831,\n",
      "        1.2249254 ,  0.2340069 ,  0.367108  , -0.571456  , -0.137607  ,\n",
      "       -0.36835375,  0.10026297, -0.2302526 , -0.593849  ,  0.7143463 ,\n",
      "        0.8719318 ,  0.8227084 ,  0.02351221,  0.17120636,  0.0420592 ,\n",
      "       -0.10639428,  0.5460289 , -0.12321997,  0.07473816, -0.6689322 ,\n",
      "       -1.1386018 ,  0.14361966, -0.7942284 ,  0.45642474,  0.48301682,\n",
      "       -0.5595097 ,  0.4696943 , -0.4541881 ,  0.37243408,  0.14996307,\n",
      "       -0.42452732,  0.7351368 ,  0.20949167, -0.48921466, -0.09745809,\n",
      "        0.4978628 , -0.34175298,  0.46515396, -0.19870786, -0.45649213,\n",
      "        0.24730872,  0.9406864 ,  0.01912598, -0.9671687 ,  1.0158322 ,\n",
      "       -0.14528665,  0.15969186,  0.55370593,  0.25284582,  0.26688707,\n",
      "       -0.34654462, -0.0222885 , -0.30548152, -0.47562793,  0.659854  ,\n",
      "       -0.36369568, -0.28700697, -0.38237688,  0.38021606, -0.62314916,\n",
      "       -0.57115304, -0.59801024, -0.37653384, -0.6086741 , -0.9676132 ,\n",
      "       -0.09153659,  0.17235486, -0.36067247, -0.49557632,  0.40494362,\n",
      "       -0.16001278,  0.9401655 ,  0.8824934 , -0.05227035, -0.44755864,\n",
      "        0.5274572 ,  0.5142695 ,  0.18615216, -0.51977986, -0.05443457,\n",
      "       -0.26506087, -0.07210859,  0.09853048, -0.035719  ,  0.65825325,\n",
      "       -0.00217938, -0.80507016,  0.5399009 , -0.73281866, -0.35785076],\n",
      "      dtype=float32)]\n"
     ]
    }
   ],
   "source": [
    "documents, filenames = load_documents(\"../samples\")\n",
    "\n",
    "model = train_word2vec(documents)\n",
    "\n",
    "print(embed_document(model, \"How can we train our remote sales team in Asia?\"))"
   ]
  },
  {
   "cell_type": "code",
   "execution_count": null,
   "metadata": {},
   "outputs": [],
   "source": []
  },
  {
   "cell_type": "code",
   "execution_count": 7,
   "metadata": {},
   "outputs": [],
   "source": [
    "from numpy import dot\n",
    "from numpy.linalg import norm\n",
    "\n",
    "def cosine_similarity(a, b):\n",
    "    return dot(a, b)/(norm(a)*norm(b))"
   ]
  },
  {
   "cell_type": "code",
   "execution_count": 8,
   "metadata": {},
   "outputs": [],
   "source": [
    "def document_similarity(model, doc1, doc2):\n",
    "    # Embed the documents\n",
    "    embedding1 = embed_document(model, doc1)\n",
    "    embedding2 = embed_document(model, doc2)\n",
    "    # Compute the mean of the embeddings\n",
    "    mean1 = np.mean(embedding1, axis=0)\n",
    "    mean2 = np.mean(embedding2, axis=0)\n",
    "    # Compute the cosine similarity between the means\n",
    "    return cosine_similarity(mean1, mean2)"
   ]
  },
  {
   "cell_type": "code",
   "execution_count": 9,
   "metadata": {},
   "outputs": [],
   "source": [
    "# # Example usage\n",
    "# doc1 = \"How can we train our remote sales team in Asia?\"\n",
    "# doc2 = documents[0]\n",
    "# print(document_similarity(model, doc1, doc2))"
   ]
  },
  {
   "cell_type": "code",
   "execution_count": 10,
   "metadata": {},
   "outputs": [],
   "source": [
    "from sklearn.cluster import KMeans\n",
    "\n",
    "def cluster_documents(model, documents, n_clusters):\n",
    "    # Embed the documents\n",
    "    embeddings = [np.mean(embed_document(model, doc), axis=0) for doc in documents]\n",
    "    # Perform k-means clustering\n",
    "    kmeans = KMeans(n_clusters=n_clusters, random_state=0).fit(embeddings)\n",
    "    return kmeans.labels_"
   ]
  },
  {
   "cell_type": "code",
   "execution_count": 11,
   "metadata": {},
   "outputs": [],
   "source": [
    "# # Example usage\n",
    "# documents = [\"This is a sample document.\", \"This is college document.\", \"This is yet another document.\", \"One more document.\", \"Document number five.\", \"And another one.\", \"The final document.\", \"Psychology is the science of mind and behavior.\", \"The mind is the set of cognitive faculties including consciousness, imagination, perception, thinking, judgment, language, and memory.\", \"The behavior is the actions and manners of individuals or groups in response to external or internal stimuli.\", \"Behavior refers to the way in which someone conducts oneself, especially in relation to others.\", \"Politics is the set of activities that are associated with making decisions in groups or other forms of power relations between individuals, such as the distribution of resources or status.\", \"The political science is the study of politics and government from the local to the global level.\", \"History is the study of the past events, particularly in human affairs.\", \"History is the discipline that records and interprets past events involving human beings.\", \"The historian is the person who studies and writes about the past and is regarded as an authority on it.\", \"Historians are concerned with the continuous, methodical narrative and research of past events as relating to the human.\",\n",
    "#              \"history is the study of the past events, particularly in human affairs.\", \"history is the discipline that records and interprets past events involving human beings.\", \"the historian is the person who studies and writes about the past and is regarded as an authority on it.\", \"historians are concerned with the continuous, methodical narrative and research of past events as relating to the human.\",\n",
    "#              \"history is the study of the past events, particularly in human affairs.\", \"history is the discipline that records and interprets past events involving human beings.\", \"the historian is the person who studies and writes about the past and is regarded as an authority on it.\", \"historians are concerned with the continuous, methodical narrative and research of past events as relating to the human.\"]\n",
    "\n",
    "# print(cluster_documents(model, documents, n_clusters=2))"
   ]
  },
  {
   "cell_type": "code",
   "execution_count": 12,
   "metadata": {},
   "outputs": [],
   "source": [
    "import matplotlib.pyplot as plt\n",
    "from sklearn.decomposition import PCA\n",
    "\n",
    "def visualize_clusters(model, documents, labels):\n",
    "    # Embed the documents\n",
    "    embeddings = [np.mean(embed_document(model, doc), axis=0) for doc in documents]\n",
    "    # Reduce the dimensionality of the embeddings to 2D\n",
    "    pca = PCA(n_components=2)\n",
    "    embeddings_2d = pca.fit_transform(embeddings)\n",
    "    # Plot the documents in 2D, colored by cluster\n",
    "    plt.scatter(embeddings_2d[:, 0], embeddings_2d[:, 1], c=labels)\n",
    "    plt.show()"
   ]
  },
  {
   "cell_type": "code",
   "execution_count": 13,
   "metadata": {},
   "outputs": [
    {
     "data": {
      "image/png": "[encoded data removed]",
      "text/plain": [
       "<Figure size 640x480 with 1 Axes>"
      ]
     },
     "metadata": {},
     "output_type": "display_data"
    }
   ],
   "source": [
    "# Example usage\n",
    "example_doc = documents\n",
    "labels = cluster_documents(model, documents, n_clusters=5)\n",
    "visualize_clusters(model, example_doc, labels)"
   ]
  },
  {
   "cell_type": "code",
   "execution_count": 14,
   "metadata": {},
   "outputs": [
    {
     "data": {
      "text/plain": [
       "array([1, 1, 2, 1, 0, 4, 1, 2, 1, 2, 0, 2, 2, 4, 0, 2, 2, 2, 0, 1, 1, 2,\n",
       "       1, 2, 2, 1, 0, 3, 2, 2, 1, 1, 3], dtype=int32)"
      ]
     },
     "execution_count": 14,
     "metadata": {},
     "output_type": "execute_result"
    }
   ],
   "source": [
    "labels"
   ]
  },
  {
   "cell_type": "code",
   "execution_count": 15,
   "metadata": {},
   "outputs": [],
   "source": [
    "def top3_similar_documents(model, input_doc, documents, filenames):\n",
    "    # Embed the input document\n",
    "    input_embedding = np.mean(embed_document(model, input_doc), axis=0)\n",
    "    # Compute the similarity with each document\n",
    "    similarities = [cosine_similarity(input_embedding, np.mean(embed_document(model, doc), axis=0)) for doc in documents]\n",
    "    # Get the indices of the top 3 documents\n",
    "    top3_indices = np.argsort(similarities)[-3:]\n",
    "    # Return the filenames of the top 3 documents\n",
    "    return [filenames[i] for i in top3_indices]\n"
   ]
  },
  {
   "cell_type": "code",
   "execution_count": 31,
   "metadata": {},
   "outputs": [
    {
     "name": "stdout",
     "output_type": "stream",
     "text": [
      "['27.txt', '30.txt', '31.txt']\n"
     ]
    }
   ],
   "source": [
    "input_doc = \"Training Strategies for Remote Sales Teams in APAC?\"\n",
    "top3 = top3_similar_documents(model, input_doc, documents, filenames)\n",
    "print(top3)"
   ]
  },
  {
   "cell_type": "code",
   "execution_count": null,
   "metadata": {},
   "outputs": [],
   "source": []
  }
 ],
 "metadata": {
  "kernelspec": {
   "display_name": ".venv",
   "language": "python",
   "name": "python3"
  },
  "language_info": {
   "codemirror_mode": {
    "name": "ipython",
    "version": 3
   },
   "file_extension": ".py",
   "mimetype": "text/x-python",
   "name": "python",
   "nbconvert_exporter": "python",
   "pygments_lexer": "ipython3",
   "version": "3.10.12"
  }
 },
 "nbformat": 4,
 "nbformat_minor": 2
}
