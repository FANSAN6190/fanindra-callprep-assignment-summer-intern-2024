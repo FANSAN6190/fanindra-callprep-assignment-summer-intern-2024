{
 "cells": [
  {
   "cell_type": "code",
   "execution_count": 1,
   "metadata": {},
   "outputs": [],
   "source": [
    "#pip install gensim nltk annoy\n",
    "#pip install \"scipy<1.13\"\n",
    "#pip install scikit-learn\n",
    "#pip install matplotlib\n",
    "#pip install pinecone-client"
   ]
  },
  {
   "cell_type": "code",
   "execution_count": 2,
   "metadata": {},
   "outputs": [
    {
     "name": "stderr",
     "output_type": "stream",
     "text": [
      "[nltk_data] Downloading package punkt to /home/fansan/nltk_data...\n",
      "[nltk_data]   Package punkt is already up-to-date!\n",
      "[nltk_data] Downloading package stopwords to /home/fansan/nltk_data...\n",
      "[nltk_data]   Package stopwords is already up-to-date!\n"
     ]
    },
    {
     "data": {
      "text/plain": [
       "True"
      ]
     },
     "execution_count": 2,
     "metadata": {},
     "output_type": "execute_result"
    }
   ],
   "source": [
    "import nltk\n",
    "import numpy as np\n",
    "import os\n",
    "import codecs\n",
    "\n",
    "nltk.download('punkt')\n",
    "nltk.download('stopwords')"
   ]
  },
  {
   "cell_type": "code",
   "execution_count": 3,
   "metadata": {},
   "outputs": [],
   "source": [
    "from nltk.corpus import stopwords\n",
    "from nltk.tokenize import word_tokenize\n",
    "from nltk.stem import PorterStemmer\n",
    "\n",
    "# Initialize the stemmer\n",
    "stemmer = PorterStemmer()\n",
    "\n",
    "# Function to preprocess a document\n",
    "def preprocess(document):\n",
    "    # Tokenize the document\n",
    "    tokens = word_tokenize(document)\n",
    "    # Remove stop words and stem the tokens\n",
    "    tokens = [stemmer.stem(token) for token in tokens if token not in stopwords.words('english')]\n",
    "    return tokens"
   ]
  },
  {
   "cell_type": "code",
   "execution_count": 4,
   "metadata": {},
   "outputs": [
    {
     "name": "stdout",
     "output_type": "stream",
     "text": [
      "['thi', 'sampl', 'document', '.']\n"
     ]
    }
   ],
   "source": [
    "print(preprocess(\"This is a sample document.\"))"
   ]
  },
  {
   "cell_type": "code",
   "execution_count": null,
   "metadata": {},
   "outputs": [],
   "source": []
  },
  {
   "cell_type": "code",
   "execution_count": 5,
   "metadata": {},
   "outputs": [],
   "source": [
    "from gensim.models import Word2Vec\n",
    "\n",
    "# Train a Word2Vec model on the documents\n",
    "def train_word2vec(documents):\n",
    "    model = Word2Vec(documents, vector_size=100, window=5, min_count=1, workers=4)\n",
    "    return model\n",
    "\n",
    "# Load the documents from a directory\n",
    "def load_documents(directory):\n",
    "    documents = []\n",
    "    filenames = []\n",
    "    for filename in os.listdir(directory):\n",
    "        if filename.endswith(\".txt\"):\n",
    "            with codecs.open(os.path.join(directory, filename), 'r', encoding='utf8') as f:\n",
    "                documents.append(f.read())\n",
    "                filenames.append(filename)\n",
    "    return documents, filenames\n",
    "\n",
    "# Function to generate a document embedding\n",
    "def embed_document(model, document):\n",
    "    # Preprocess the document\n",
    "    tokens = preprocess(document)\n",
    "    # Generate the embedding\n",
    "    embedding = [model.wv[token] for token in tokens if token in model.wv]\n",
    "    return embedding"
   ]
  },
  {
   "cell_type": "code",
   "execution_count": 6,
   "metadata": {},
   "outputs": [
    {
     "name": "stdout",
     "output_type": "stream",
     "text": [
      "[array([ 0.30924687,  0.38216576,  0.40411052, -0.00135642,  0.08845835,\n",
      "        0.1606522 ,  0.09476346, -0.40335467,  0.49284518,  0.46431085,\n",
      "        0.6872955 ,  0.09163524,  0.66775215, -0.67406213, -0.27102265,\n",
      "       -0.43963763, -0.17776313,  0.04651169, -0.2855218 ,  1.0961841 ,\n",
      "        0.61403996,  0.46191883, -0.5060387 ,  0.11268833,  0.06255079,\n",
      "        0.06679951,  0.17002976, -0.35593408,  0.4088176 , -0.45459363,\n",
      "       -0.70271605,  0.28770667, -0.37780535, -0.5353253 ,  0.2893987 ,\n",
      "       -0.5328778 ,  0.58642906, -0.3712011 ,  0.14384358, -0.24646592,\n",
      "       -0.5921899 ,  0.27630958, -0.12679319, -0.08074547,  0.01028538,\n",
      "        0.23959637, -0.84081155,  0.34358954,  0.007397  , -0.50111914,\n",
      "        0.20514701,  0.6210399 , -0.43779716, -1.1990409 ,  0.6994121 ,\n",
      "       -0.6709879 ,  0.25371212, -0.05233688,  0.12216346,  0.67261523,\n",
      "       -0.24554673, -0.33725575,  0.1405594 , -0.51045024,  0.27250993,\n",
      "       -0.3200985 , -0.34218177,  0.11445699, -0.07526509, -0.522035  ,\n",
      "       -0.43553394, -0.01848875, -0.59159815, -1.0025096 , -1.0808233 ,\n",
      "        0.03503146,  0.61985946, -0.25152475, -0.27072653,  0.10406886,\n",
      "       -0.27211583,  0.46040004,  1.0897506 ,  0.24417682, -0.71395195,\n",
      "        0.17864513,  0.77806735, -0.25587642, -0.30530867, -0.08962139,\n",
      "       -0.28126144, -0.12089116,  0.32255054,  0.40385917,  0.6895531 ,\n",
      "       -0.11646555, -0.9982039 ,  0.6952848 , -0.61009866, -0.07643275],\n",
      "      dtype=float32)]\n"
     ]
    }
   ],
   "source": [
    "documents, filenames = load_documents(\"../samples\")\n",
    "\n",
    "model = train_word2vec(documents)\n",
    "\n",
    "print(embed_document(model, \"How can we train our remote sales team in Asia?\"))"
   ]
  },
  {
   "cell_type": "code",
   "execution_count": null,
   "metadata": {},
   "outputs": [],
   "source": []
  },
  {
   "cell_type": "code",
   "execution_count": 7,
   "metadata": {},
   "outputs": [],
   "source": [
    "from numpy import dot\n",
    "from numpy.linalg import norm\n",
    "\n",
    "def cosine_similarity(a, b):\n",
    "    return dot(a, b)/(norm(a)*norm(b))"
   ]
  },
  {
   "cell_type": "code",
   "execution_count": 8,
   "metadata": {},
   "outputs": [],
   "source": [
    "def document_similarity(model, doc1, doc2):\n",
    "    # Embed the documents\n",
    "    embedding1 = embed_document(model, doc1)\n",
    "    embedding2 = embed_document(model, doc2)\n",
    "    # Compute the mean of the embeddings\n",
    "    mean1 = np.mean(embedding1, axis=0)\n",
    "    mean2 = np.mean(embedding2, axis=0)\n",
    "    # Compute the cosine similarity between the means\n",
    "    return cosine_similarity(mean1, mean2)"
   ]
  },
  {
   "cell_type": "code",
   "execution_count": 9,
   "metadata": {},
   "outputs": [],
   "source": [
    "# # Example usage\n",
    "# doc1 = \"How can we train our remote sales team in Asia?\"\n",
    "# doc2 = documents[0]\n",
    "# print(document_similarity(model, doc1, doc2))"
   ]
  },
  {
   "cell_type": "code",
   "execution_count": 10,
   "metadata": {},
   "outputs": [],
   "source": [
    "from sklearn.cluster import KMeans\n",
    "\n",
    "def cluster_documents(model, documents, n_clusters):\n",
    "    # Embed the documents\n",
    "    embeddings = [np.mean(embed_document(model, doc), axis=0) for doc in documents]\n",
    "    # Perform k-means clustering\n",
    "    kmeans = KMeans(n_clusters=n_clusters, random_state=0).fit(embeddings)\n",
    "    return kmeans.labels_"
   ]
  },
  {
   "cell_type": "code",
   "execution_count": 11,
   "metadata": {},
   "outputs": [],
   "source": [
    "# # Example usage\n",
    "# documents = [\"This is a sample document.\", \"This is college document.\", \"This is yet another document.\", \"One more document.\", \"Document number five.\", \"And another one.\", \"The final document.\", \"Psychology is the science of mind and behavior.\", \"The mind is the set of cognitive faculties including consciousness, imagination, perception, thinking, judgment, language, and memory.\", \"The behavior is the actions and manners of individuals or groups in response to external or internal stimuli.\", \"Behavior refers to the way in which someone conducts oneself, especially in relation to others.\", \"Politics is the set of activities that are associated with making decisions in groups or other forms of power relations between individuals, such as the distribution of resources or status.\", \"The political science is the study of politics and government from the local to the global level.\", \"History is the study of the past events, particularly in human affairs.\", \"History is the discipline that records and interprets past events involving human beings.\", \"The historian is the person who studies and writes about the past and is regarded as an authority on it.\", \"Historians are concerned with the continuous, methodical narrative and research of past events as relating to the human.\",\n",
    "#              \"history is the study of the past events, particularly in human affairs.\", \"history is the discipline that records and interprets past events involving human beings.\", \"the historian is the person who studies and writes about the past and is regarded as an authority on it.\", \"historians are concerned with the continuous, methodical narrative and research of past events as relating to the human.\",\n",
    "#              \"history is the study of the past events, particularly in human affairs.\", \"history is the discipline that records and interprets past events involving human beings.\", \"the historian is the person who studies and writes about the past and is regarded as an authority on it.\", \"historians are concerned with the continuous, methodical narrative and research of past events as relating to the human.\"]\n",
    "\n",
    "# print(cluster_documents(model, documents, n_clusters=2))"
   ]
  },
  {
   "cell_type": "code",
   "execution_count": 12,
   "metadata": {},
   "outputs": [],
   "source": [
    "import matplotlib.pyplot as plt\n",
    "from sklearn.decomposition import PCA\n",
    "\n",
    "def visualize_clusters(model, documents, labels):\n",
    "    # Embed the documents\n",
    "    embeddings = [np.mean(embed_document(model, doc), axis=0) for doc in documents]\n",
    "    # Reduce the dimensionality of the embeddings to 2D\n",
    "    pca = PCA(n_components=2)\n",
    "    embeddings_2d = pca.fit_transform(embeddings)\n",
    "    # Plot the documents in 2D, colored by cluster\n",
    "    plt.scatter(embeddings_2d[:, 0], embeddings_2d[:, 1], c=labels)\n",
    "    plt.show()"
   ]
  },
  {
   "cell_type": "code",
   "execution_count": 13,
   "metadata": {},
   "outputs": [
    {
     "data": {
      "image/png": "[encoded data removed]",
      "text/plain": [
       "<Figure size 640x480 with 1 Axes>"
      ]
     },
     "metadata": {},
     "output_type": "display_data"
    }
   ],
   "source": [
    "# Example usage\n",
    "example_doc = documents\n",
    "labels = cluster_documents(model, documents, n_clusters=5)\n",
    "visualize_clusters(model, example_doc, labels)"
   ]
  },
  {
   "cell_type": "code",
   "execution_count": 14,
   "metadata": {},
   "outputs": [
    {
     "data": {
      "text/plain": [
       "array([4, 2, 1, 2, 0, 0, 4, 1, 4, 1, 0, 1, 1, 0, 0, 1, 1, 1, 0, 4, 4, 0,\n",
       "       2, 1, 1, 4, 0, 0, 1, 0, 4, 4, 3], dtype=int32)"
      ]
     },
     "execution_count": 14,
     "metadata": {},
     "output_type": "execute_result"
    }
   ],
   "source": [
    "labels"
   ]
  },
  {
   "cell_type": "code",
   "execution_count": 15,
   "metadata": {},
   "outputs": [],
   "source": [
    "def top3_similar_documents(model, input_doc, documents, filenames):\n",
    "    # Embed the input document\n",
    "    input_embedding = np.mean(embed_document(model, input_doc), axis=0)\n",
    "    # Compute the similarity with each document\n",
    "    similarities = [cosine_similarity(input_embedding, np.mean(embed_document(model, doc), axis=0)) for doc in documents]\n",
    "    # Get the indices of the top 3 documents\n",
    "    top3_indices = np.argsort(similarities)[-3:]\n",
    "    # Return the filenames of the top 3 documents\n",
    "    return [filenames[i] for i in top3_indices]\n"
   ]
  },
  {
   "cell_type": "code",
   "execution_count": 16,
   "metadata": {},
   "outputs": [
    {
     "name": "stdout",
     "output_type": "stream",
     "text": [
      "['27.txt', '10.txt', '31.txt']\n"
     ]
    }
   ],
   "source": [
    "input_doc = \"Training Strategies for Remote Sales Teams in APAC?\"\n",
    "top3 = top3_similar_documents(model, input_doc, documents, filenames)\n",
    "print(top3)"
   ]
  },
  {
   "cell_type": "code",
   "execution_count": null,
   "metadata": {},
   "outputs": [],
   "source": []
  }
 ],
 "metadata": {
  "kernelspec": {
   "display_name": ".venv",
   "language": "python",
   "name": "python3"
  },
  "language_info": {
   "codemirror_mode": {
    "name": "ipython",
    "version": 3
   },
   "file_extension": ".py",
   "mimetype": "text/x-python",
   "name": "python",
   "nbconvert_exporter": "python",
   "pygments_lexer": "ipython3",
   "version": "3.10.12"
  }
 },
 "nbformat": 4,
 "nbformat_minor": 2
}
